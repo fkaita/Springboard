{
 "cells": [
  {
   "cell_type": "code",
   "execution_count": 1,
   "metadata": {},
   "outputs": [],
   "source": [
    "import requests\n",
    "import json\n",
    "import datetime as dt\n",
    "import pandas as pd\n",
    "import time\n",
    "import urllib\n",
    "import re\n",
    "import sqlite3"
   ]
  },
  {
   "cell_type": "code",
   "execution_count": 3,
   "metadata": {},
   "outputs": [],
   "source": [
    "#Get a list of stations of daily GHCN data\n",
    "station_name_url = 'https://www1.ncdc.noaa.gov/pub/data/ghcn/daily/ghcnd-stations.txt'\n",
    "station_name = urllib.request.urlopen(station_name_url).readlines()"
   ]
  },
  {
   "cell_type": "code",
   "execution_count": 5,
   "metadata": {},
   "outputs": [
    {
     "data": {
      "text/plain": [
       "[['ACW00011604',\n",
       "  '17.1167',\n",
       "  '-61.7833',\n",
       "  '10.1',\n",
       "  'NaN',\n",
       "  'ST JOHNS COOLIDGE FLD'],\n",
       " ['ACW00011647', '17.1333', '-61.7833', '19.2', 'NaN', 'ST JOHNS'],\n",
       " ['AE000041196', '25.3330', '55.5170', '34.0', 'NaN', 'SHARJAH INTER. AIRP'],\n",
       " ['AEM00041194', '25.2550', '55.3640', '10.4', 'NaN', 'DUBAI INTL'],\n",
       " ['AEM00041217', '24.4330', '54.6510', '26.8', 'NaN', 'ABU DHABI INTL'],\n",
       " ['AEM00041218', '24.2620', '55.6090', '264.9', 'NaN', 'AL AIN INTL'],\n",
       " ['AF000040930', '35.3170', '69.0170', '3366.0', 'NaN', 'NORTH-SALANG'],\n",
       " ['AFM00040938', '34.2100', '62.2280', '977.2', 'NaN', 'HERAT'],\n",
       " ['AFM00040948', '34.5660', '69.2120', '1791.3', 'NaN', 'KABUL INTL'],\n",
       " ['AFM00040990', '31.5000', '65.8500', '1010.0', 'NaN', 'KANDAHAR AIRPORT']]"
      ]
     },
     "execution_count": 5,
     "metadata": {},
     "output_type": "execute_result"
    }
   ],
   "source": [
    "#Extract only information we use and make a list.\n",
    "station_name_short=[]\n",
    "\n",
    "for line in station_name:\n",
    "    #strip extra information\n",
    "    line = line[:-14]\n",
    "    line = line.decode('UTF-8')\n",
    "    \n",
    "    #split ID, lat, long, and elevation\n",
    "    line1 = line[0:37]\n",
    "    line1 = re.split(' +', line1)\n",
    "    \n",
    "    #split state place NaN if no information\n",
    "    line2 = line[37:40]\n",
    "    if line2.strip() == '':\n",
    "        line2 = 'NaN'\n",
    "    else:\n",
    "        line2 = line2.strip()\n",
    "    \n",
    "    #split station name\n",
    "    line3 = line[40:]\n",
    "    line3 = line3.strip()\n",
    "    \n",
    "    #conbine all in one line\n",
    "    line1.append(line2)\n",
    "    line1.append(line3)\n",
    "    \n",
    "    station_name_short.append(line1)\n",
    "\n",
    "#Show the first 10 items in the list\n",
    "station_name_short[:10]"
   ]
  },
  {
   "cell_type": "code",
   "execution_count": 6,
   "metadata": {},
   "outputs": [
    {
     "data": {
      "text/html": [
       "<div>\n",
       "<style scoped>\n",
       "    .dataframe tbody tr th:only-of-type {\n",
       "        vertical-align: middle;\n",
       "    }\n",
       "\n",
       "    .dataframe tbody tr th {\n",
       "        vertical-align: top;\n",
       "    }\n",
       "\n",
       "    .dataframe thead th {\n",
       "        text-align: right;\n",
       "    }\n",
       "</style>\n",
       "<table border=\"1\" class=\"dataframe\">\n",
       "  <thead>\n",
       "    <tr style=\"text-align: right;\">\n",
       "      <th></th>\n",
       "      <th>Station ID</th>\n",
       "      <th>latitude</th>\n",
       "      <th>longitude</th>\n",
       "      <th>elevation</th>\n",
       "      <th>state</th>\n",
       "      <th>station name</th>\n",
       "    </tr>\n",
       "  </thead>\n",
       "  <tbody>\n",
       "    <tr>\n",
       "      <th>0</th>\n",
       "      <td>ACW00011604</td>\n",
       "      <td>17.1167</td>\n",
       "      <td>-61.7833</td>\n",
       "      <td>10.1</td>\n",
       "      <td>NaN</td>\n",
       "      <td>ST JOHNS COOLIDGE FLD</td>\n",
       "    </tr>\n",
       "    <tr>\n",
       "      <th>1</th>\n",
       "      <td>ACW00011647</td>\n",
       "      <td>17.1333</td>\n",
       "      <td>-61.7833</td>\n",
       "      <td>19.2</td>\n",
       "      <td>NaN</td>\n",
       "      <td>ST JOHNS</td>\n",
       "    </tr>\n",
       "    <tr>\n",
       "      <th>2</th>\n",
       "      <td>AE000041196</td>\n",
       "      <td>25.3330</td>\n",
       "      <td>55.5170</td>\n",
       "      <td>34.0</td>\n",
       "      <td>NaN</td>\n",
       "      <td>SHARJAH INTER. AIRP</td>\n",
       "    </tr>\n",
       "    <tr>\n",
       "      <th>3</th>\n",
       "      <td>AEM00041194</td>\n",
       "      <td>25.2550</td>\n",
       "      <td>55.3640</td>\n",
       "      <td>10.4</td>\n",
       "      <td>NaN</td>\n",
       "      <td>DUBAI INTL</td>\n",
       "    </tr>\n",
       "    <tr>\n",
       "      <th>4</th>\n",
       "      <td>AEM00041217</td>\n",
       "      <td>24.4330</td>\n",
       "      <td>54.6510</td>\n",
       "      <td>26.8</td>\n",
       "      <td>NaN</td>\n",
       "      <td>ABU DHABI INTL</td>\n",
       "    </tr>\n",
       "  </tbody>\n",
       "</table>\n",
       "</div>"
      ],
      "text/plain": [
       "    Station ID latitude longitude elevation state           station name\n",
       "0  ACW00011604  17.1167  -61.7833      10.1   NaN  ST JOHNS COOLIDGE FLD\n",
       "1  ACW00011647  17.1333  -61.7833      19.2   NaN               ST JOHNS\n",
       "2  AE000041196  25.3330   55.5170      34.0   NaN    SHARJAH INTER. AIRP\n",
       "3  AEM00041194  25.2550   55.3640      10.4   NaN             DUBAI INTL\n",
       "4  AEM00041217  24.4330   54.6510      26.8   NaN         ABU DHABI INTL"
      ]
     },
     "execution_count": 6,
     "metadata": {},
     "output_type": "execute_result"
    }
   ],
   "source": [
    "#make dataframe for the list of stations\n",
    "df_station_name = pd.DataFrame(station_name_short, columns=['Station ID', 'latitude', 'longitude', 'elevation', 'state', 'station name'])\n",
    "df_station_name.head()"
   ]
  },
  {
   "cell_type": "code",
   "execution_count": 7,
   "metadata": {},
   "outputs": [
    {
     "name": "stdout",
     "output_type": "stream",
     "text": [
      "<class 'pandas.core.frame.DataFrame'>\n",
      "RangeIndex: 113933 entries, 0 to 113932\n",
      "Data columns (total 6 columns):\n",
      "Station ID      113933 non-null object\n",
      "latitude        113933 non-null object\n",
      "longitude       113933 non-null object\n",
      "elevation       113933 non-null object\n",
      "state           113933 non-null object\n",
      "station name    113933 non-null object\n",
      "dtypes: object(6)\n",
      "memory usage: 5.2+ MB\n"
     ]
    }
   ],
   "source": [
    "df_station_name.info()"
   ]
  },
  {
   "cell_type": "code",
   "execution_count": 8,
   "metadata": {},
   "outputs": [],
   "source": [
    "#Get information of which type of data and which periond is avaliable for each stations.\n",
    "station_type_url = 'https://www1.ncdc.noaa.gov/pub/data/ghcn/daily/ghcnd-inventory.txt'\n",
    "station_type = urllib.request.urlopen(station_type_url).readlines()"
   ]
  },
  {
   "cell_type": "code",
   "execution_count": 9,
   "metadata": {},
   "outputs": [
    {
     "data": {
      "text/plain": [
       "[['ACW00011604', '17.1167', '-61.7833', 'TMAX', '1949', '1949'],\n",
       " ['ACW00011604', '17.1167', '-61.7833', 'TMIN', '1949', '1949'],\n",
       " ['ACW00011604', '17.1167', '-61.7833', 'PRCP', '1949', '1949'],\n",
       " ['ACW00011604', '17.1167', '-61.7833', 'SNOW', '1949', '1949'],\n",
       " ['ACW00011604', '17.1167', '-61.7833', 'SNWD', '1949', '1949'],\n",
       " ['ACW00011604', '17.1167', '-61.7833', 'PGTM', '1949', '1949'],\n",
       " ['ACW00011604', '17.1167', '-61.7833', 'WDFG', '1949', '1949'],\n",
       " ['ACW00011604', '17.1167', '-61.7833', 'WSFG', '1949', '1949'],\n",
       " ['ACW00011604', '17.1167', '-61.7833', 'WT03', '1949', '1949'],\n",
       " ['ACW00011604', '17.1167', '-61.7833', 'WT08', '1949', '1949']]"
      ]
     },
     "execution_count": 9,
     "metadata": {},
     "output_type": "execute_result"
    }
   ],
   "source": [
    "#Extract information we use only.\n",
    "station_type_list=[]\n",
    "\n",
    "for line in station_type:\n",
    "    #decode and remove '\\n' \n",
    "    line = line.decode('UTF-8')\n",
    "    line = line[:-1]\n",
    "    \n",
    "    #split by space\n",
    "    line = re.split(' +', line)\n",
    "    \n",
    "    station_type_list.append(line)\n",
    "\n",
    "#Show the first 10 items.\n",
    "station_type_list[:10]"
   ]
  },
  {
   "cell_type": "code",
   "execution_count": 10,
   "metadata": {},
   "outputs": [
    {
     "data": {
      "text/html": [
       "<div>\n",
       "<style scoped>\n",
       "    .dataframe tbody tr th:only-of-type {\n",
       "        vertical-align: middle;\n",
       "    }\n",
       "\n",
       "    .dataframe tbody tr th {\n",
       "        vertical-align: top;\n",
       "    }\n",
       "\n",
       "    .dataframe thead th {\n",
       "        text-align: right;\n",
       "    }\n",
       "</style>\n",
       "<table border=\"1\" class=\"dataframe\">\n",
       "  <thead>\n",
       "    <tr style=\"text-align: right;\">\n",
       "      <th></th>\n",
       "      <th>Station ID</th>\n",
       "      <th>latitude</th>\n",
       "      <th>longitude</th>\n",
       "      <th>element type</th>\n",
       "      <th>begin year</th>\n",
       "      <th>end year</th>\n",
       "    </tr>\n",
       "  </thead>\n",
       "  <tbody>\n",
       "    <tr>\n",
       "      <th>0</th>\n",
       "      <td>ACW00011604</td>\n",
       "      <td>17.1167</td>\n",
       "      <td>-61.7833</td>\n",
       "      <td>TMAX</td>\n",
       "      <td>1949</td>\n",
       "      <td>1949</td>\n",
       "    </tr>\n",
       "    <tr>\n",
       "      <th>1</th>\n",
       "      <td>ACW00011604</td>\n",
       "      <td>17.1167</td>\n",
       "      <td>-61.7833</td>\n",
       "      <td>TMIN</td>\n",
       "      <td>1949</td>\n",
       "      <td>1949</td>\n",
       "    </tr>\n",
       "    <tr>\n",
       "      <th>2</th>\n",
       "      <td>ACW00011604</td>\n",
       "      <td>17.1167</td>\n",
       "      <td>-61.7833</td>\n",
       "      <td>PRCP</td>\n",
       "      <td>1949</td>\n",
       "      <td>1949</td>\n",
       "    </tr>\n",
       "    <tr>\n",
       "      <th>3</th>\n",
       "      <td>ACW00011604</td>\n",
       "      <td>17.1167</td>\n",
       "      <td>-61.7833</td>\n",
       "      <td>SNOW</td>\n",
       "      <td>1949</td>\n",
       "      <td>1949</td>\n",
       "    </tr>\n",
       "    <tr>\n",
       "      <th>4</th>\n",
       "      <td>ACW00011604</td>\n",
       "      <td>17.1167</td>\n",
       "      <td>-61.7833</td>\n",
       "      <td>SNWD</td>\n",
       "      <td>1949</td>\n",
       "      <td>1949</td>\n",
       "    </tr>\n",
       "  </tbody>\n",
       "</table>\n",
       "</div>"
      ],
      "text/plain": [
       "    Station ID latitude longitude element type begin year end year\n",
       "0  ACW00011604  17.1167  -61.7833         TMAX       1949     1949\n",
       "1  ACW00011604  17.1167  -61.7833         TMIN       1949     1949\n",
       "2  ACW00011604  17.1167  -61.7833         PRCP       1949     1949\n",
       "3  ACW00011604  17.1167  -61.7833         SNOW       1949     1949\n",
       "4  ACW00011604  17.1167  -61.7833         SNWD       1949     1949"
      ]
     },
     "execution_count": 10,
     "metadata": {},
     "output_type": "execute_result"
    }
   ],
   "source": [
    "#make datafram of a list of available datatype and period for each stations\n",
    "df_station_type = pd.DataFrame(station_type_list, columns = ['Station ID', 'latitude', 'longitude', 'element type', 'begin year', 'end year'])\n",
    "df_station_type.head()"
   ]
  },
  {
   "cell_type": "code",
   "execution_count": 11,
   "metadata": {},
   "outputs": [
    {
     "name": "stdout",
     "output_type": "stream",
     "text": [
      "<class 'pandas.core.frame.DataFrame'>\n",
      "RangeIndex: 680787 entries, 0 to 680786\n",
      "Data columns (total 6 columns):\n",
      "Station ID      680787 non-null object\n",
      "latitude        680787 non-null object\n",
      "longitude       680787 non-null object\n",
      "element type    680787 non-null object\n",
      "begin year      680787 non-null object\n",
      "end year        680787 non-null object\n",
      "dtypes: object(6)\n",
      "memory usage: 31.2+ MB\n"
     ]
    }
   ],
   "source": [
    "df_station_type.info()"
   ]
  },
  {
   "cell_type": "code",
   "execution_count": 12,
   "metadata": {},
   "outputs": [],
   "source": [
    "#Change 'begin year' and 'end year' to numeric.\n",
    "df_station_type['begin year'] = pd.to_numeric(df_station_type['begin year'])\n",
    "df_station_type['end year'] = pd.to_numeric(df_station_type['end year'])"
   ]
  },
  {
   "cell_type": "code",
   "execution_count": 13,
   "metadata": {},
   "outputs": [
    {
     "data": {
      "text/html": [
       "<div>\n",
       "<style scoped>\n",
       "    .dataframe tbody tr th:only-of-type {\n",
       "        vertical-align: middle;\n",
       "    }\n",
       "\n",
       "    .dataframe tbody tr th {\n",
       "        vertical-align: top;\n",
       "    }\n",
       "\n",
       "    .dataframe thead th {\n",
       "        text-align: right;\n",
       "    }\n",
       "</style>\n",
       "<table border=\"1\" class=\"dataframe\">\n",
       "  <thead>\n",
       "    <tr style=\"text-align: right;\">\n",
       "      <th></th>\n",
       "      <th>Station ID</th>\n",
       "      <th>latitude_x</th>\n",
       "      <th>longitude_x</th>\n",
       "      <th>elevation</th>\n",
       "      <th>state</th>\n",
       "      <th>station name</th>\n",
       "      <th>latitude_y</th>\n",
       "      <th>longitude_y</th>\n",
       "      <th>element type</th>\n",
       "      <th>begin year</th>\n",
       "      <th>end year</th>\n",
       "    </tr>\n",
       "  </thead>\n",
       "  <tbody>\n",
       "    <tr>\n",
       "      <th>0</th>\n",
       "      <td>ACW00011604</td>\n",
       "      <td>17.1167</td>\n",
       "      <td>-61.7833</td>\n",
       "      <td>10.1</td>\n",
       "      <td>NaN</td>\n",
       "      <td>ST JOHNS COOLIDGE FLD</td>\n",
       "      <td>17.1167</td>\n",
       "      <td>-61.7833</td>\n",
       "      <td>TMAX</td>\n",
       "      <td>1949</td>\n",
       "      <td>1949</td>\n",
       "    </tr>\n",
       "    <tr>\n",
       "      <th>1</th>\n",
       "      <td>ACW00011604</td>\n",
       "      <td>17.1167</td>\n",
       "      <td>-61.7833</td>\n",
       "      <td>10.1</td>\n",
       "      <td>NaN</td>\n",
       "      <td>ST JOHNS COOLIDGE FLD</td>\n",
       "      <td>17.1167</td>\n",
       "      <td>-61.7833</td>\n",
       "      <td>TMIN</td>\n",
       "      <td>1949</td>\n",
       "      <td>1949</td>\n",
       "    </tr>\n",
       "    <tr>\n",
       "      <th>2</th>\n",
       "      <td>ACW00011604</td>\n",
       "      <td>17.1167</td>\n",
       "      <td>-61.7833</td>\n",
       "      <td>10.1</td>\n",
       "      <td>NaN</td>\n",
       "      <td>ST JOHNS COOLIDGE FLD</td>\n",
       "      <td>17.1167</td>\n",
       "      <td>-61.7833</td>\n",
       "      <td>PRCP</td>\n",
       "      <td>1949</td>\n",
       "      <td>1949</td>\n",
       "    </tr>\n",
       "    <tr>\n",
       "      <th>3</th>\n",
       "      <td>ACW00011604</td>\n",
       "      <td>17.1167</td>\n",
       "      <td>-61.7833</td>\n",
       "      <td>10.1</td>\n",
       "      <td>NaN</td>\n",
       "      <td>ST JOHNS COOLIDGE FLD</td>\n",
       "      <td>17.1167</td>\n",
       "      <td>-61.7833</td>\n",
       "      <td>SNOW</td>\n",
       "      <td>1949</td>\n",
       "      <td>1949</td>\n",
       "    </tr>\n",
       "    <tr>\n",
       "      <th>4</th>\n",
       "      <td>ACW00011604</td>\n",
       "      <td>17.1167</td>\n",
       "      <td>-61.7833</td>\n",
       "      <td>10.1</td>\n",
       "      <td>NaN</td>\n",
       "      <td>ST JOHNS COOLIDGE FLD</td>\n",
       "      <td>17.1167</td>\n",
       "      <td>-61.7833</td>\n",
       "      <td>SNWD</td>\n",
       "      <td>1949</td>\n",
       "      <td>1949</td>\n",
       "    </tr>\n",
       "  </tbody>\n",
       "</table>\n",
       "</div>"
      ],
      "text/plain": [
       "    Station ID latitude_x longitude_x elevation state           station name  \\\n",
       "0  ACW00011604    17.1167    -61.7833      10.1   NaN  ST JOHNS COOLIDGE FLD   \n",
       "1  ACW00011604    17.1167    -61.7833      10.1   NaN  ST JOHNS COOLIDGE FLD   \n",
       "2  ACW00011604    17.1167    -61.7833      10.1   NaN  ST JOHNS COOLIDGE FLD   \n",
       "3  ACW00011604    17.1167    -61.7833      10.1   NaN  ST JOHNS COOLIDGE FLD   \n",
       "4  ACW00011604    17.1167    -61.7833      10.1   NaN  ST JOHNS COOLIDGE FLD   \n",
       "\n",
       "  latitude_y longitude_y element type  begin year  end year  \n",
       "0    17.1167    -61.7833         TMAX        1949      1949  \n",
       "1    17.1167    -61.7833         TMIN        1949      1949  \n",
       "2    17.1167    -61.7833         PRCP        1949      1949  \n",
       "3    17.1167    -61.7833         SNOW        1949      1949  \n",
       "4    17.1167    -61.7833         SNWD        1949      1949  "
      ]
     },
     "execution_count": 13,
     "metadata": {},
     "output_type": "execute_result"
    }
   ],
   "source": [
    "#Merge two dataframes, a list of stations and avaliable datatype and period for each stations\n",
    "df_station = pd.merge(df_station_name, df_station_type, on = 'Station ID', how = 'inner')\n",
    "df_station.head()"
   ]
  },
  {
   "cell_type": "code",
   "execution_count": 14,
   "metadata": {},
   "outputs": [],
   "source": [
    "#Save data of station to CSV file\n",
    "df_station.to_csv('noaa_station.csv')"
   ]
  },
  {
   "cell_type": "code",
   "execution_count": 14,
   "metadata": {},
   "outputs": [
    {
     "data": {
      "text/html": [
       "<div>\n",
       "<style scoped>\n",
       "    .dataframe tbody tr th:only-of-type {\n",
       "        vertical-align: middle;\n",
       "    }\n",
       "\n",
       "    .dataframe tbody tr th {\n",
       "        vertical-align: top;\n",
       "    }\n",
       "\n",
       "    .dataframe thead th {\n",
       "        text-align: right;\n",
       "    }\n",
       "</style>\n",
       "<table border=\"1\" class=\"dataframe\">\n",
       "  <thead>\n",
       "    <tr style=\"text-align: right;\">\n",
       "      <th></th>\n",
       "      <th>Unnamed: 0</th>\n",
       "      <th>Station ID</th>\n",
       "      <th>latitude_x</th>\n",
       "      <th>longitude_x</th>\n",
       "      <th>elevation</th>\n",
       "      <th>state</th>\n",
       "      <th>station name</th>\n",
       "      <th>latitude_y</th>\n",
       "      <th>longitude_y</th>\n",
       "      <th>element type</th>\n",
       "      <th>begin year</th>\n",
       "      <th>end year</th>\n",
       "    </tr>\n",
       "  </thead>\n",
       "  <tbody>\n",
       "    <tr>\n",
       "      <th>0</th>\n",
       "      <td>0</td>\n",
       "      <td>ACW00011604</td>\n",
       "      <td>17.1167</td>\n",
       "      <td>-61.7833</td>\n",
       "      <td>10.1</td>\n",
       "      <td>NaN</td>\n",
       "      <td>ST JOHNS COOLIDGE FLD</td>\n",
       "      <td>17.1167</td>\n",
       "      <td>-61.7833</td>\n",
       "      <td>TMAX</td>\n",
       "      <td>1949</td>\n",
       "      <td>1949</td>\n",
       "    </tr>\n",
       "    <tr>\n",
       "      <th>1</th>\n",
       "      <td>1</td>\n",
       "      <td>ACW00011604</td>\n",
       "      <td>17.1167</td>\n",
       "      <td>-61.7833</td>\n",
       "      <td>10.1</td>\n",
       "      <td>NaN</td>\n",
       "      <td>ST JOHNS COOLIDGE FLD</td>\n",
       "      <td>17.1167</td>\n",
       "      <td>-61.7833</td>\n",
       "      <td>TMIN</td>\n",
       "      <td>1949</td>\n",
       "      <td>1949</td>\n",
       "    </tr>\n",
       "    <tr>\n",
       "      <th>2</th>\n",
       "      <td>2</td>\n",
       "      <td>ACW00011604</td>\n",
       "      <td>17.1167</td>\n",
       "      <td>-61.7833</td>\n",
       "      <td>10.1</td>\n",
       "      <td>NaN</td>\n",
       "      <td>ST JOHNS COOLIDGE FLD</td>\n",
       "      <td>17.1167</td>\n",
       "      <td>-61.7833</td>\n",
       "      <td>PRCP</td>\n",
       "      <td>1949</td>\n",
       "      <td>1949</td>\n",
       "    </tr>\n",
       "    <tr>\n",
       "      <th>3</th>\n",
       "      <td>3</td>\n",
       "      <td>ACW00011604</td>\n",
       "      <td>17.1167</td>\n",
       "      <td>-61.7833</td>\n",
       "      <td>10.1</td>\n",
       "      <td>NaN</td>\n",
       "      <td>ST JOHNS COOLIDGE FLD</td>\n",
       "      <td>17.1167</td>\n",
       "      <td>-61.7833</td>\n",
       "      <td>SNOW</td>\n",
       "      <td>1949</td>\n",
       "      <td>1949</td>\n",
       "    </tr>\n",
       "    <tr>\n",
       "      <th>4</th>\n",
       "      <td>4</td>\n",
       "      <td>ACW00011604</td>\n",
       "      <td>17.1167</td>\n",
       "      <td>-61.7833</td>\n",
       "      <td>10.1</td>\n",
       "      <td>NaN</td>\n",
       "      <td>ST JOHNS COOLIDGE FLD</td>\n",
       "      <td>17.1167</td>\n",
       "      <td>-61.7833</td>\n",
       "      <td>SNWD</td>\n",
       "      <td>1949</td>\n",
       "      <td>1949</td>\n",
       "    </tr>\n",
       "  </tbody>\n",
       "</table>\n",
       "</div>"
      ],
      "text/plain": [
       "   Unnamed: 0   Station ID  latitude_x  longitude_x  elevation state  \\\n",
       "0           0  ACW00011604     17.1167     -61.7833       10.1   NaN   \n",
       "1           1  ACW00011604     17.1167     -61.7833       10.1   NaN   \n",
       "2           2  ACW00011604     17.1167     -61.7833       10.1   NaN   \n",
       "3           3  ACW00011604     17.1167     -61.7833       10.1   NaN   \n",
       "4           4  ACW00011604     17.1167     -61.7833       10.1   NaN   \n",
       "\n",
       "            station name  latitude_y  longitude_y element type  begin year  \\\n",
       "0  ST JOHNS COOLIDGE FLD     17.1167     -61.7833         TMAX        1949   \n",
       "1  ST JOHNS COOLIDGE FLD     17.1167     -61.7833         TMIN        1949   \n",
       "2  ST JOHNS COOLIDGE FLD     17.1167     -61.7833         PRCP        1949   \n",
       "3  ST JOHNS COOLIDGE FLD     17.1167     -61.7833         SNOW        1949   \n",
       "4  ST JOHNS COOLIDGE FLD     17.1167     -61.7833         SNWD        1949   \n",
       "\n",
       "   end year  \n",
       "0      1949  \n",
       "1      1949  \n",
       "2      1949  \n",
       "3      1949  \n",
       "4      1949  "
      ]
     },
     "execution_count": 14,
     "metadata": {},
     "output_type": "execute_result"
    }
   ],
   "source": [
    "df_station = pd.read_csv('noaa_station.csv')\n",
    "df_station.head()"
   ]
  },
  {
   "cell_type": "code",
   "execution_count": 15,
   "metadata": {},
   "outputs": [
    {
     "name": "stdout",
     "output_type": "stream",
     "text": [
      "<class 'pandas.core.frame.DataFrame'>\n",
      "Int64Index: 160574 entries, 1 to 680722\n",
      "Data columns (total 12 columns):\n",
      "Unnamed: 0      160574 non-null int64\n",
      "Station ID      160574 non-null object\n",
      "latitude_x      160574 non-null float64\n",
      "longitude_x     160574 non-null float64\n",
      "elevation       160574 non-null float64\n",
      "state           99118 non-null object\n",
      "station name    160574 non-null object\n",
      "latitude_y      160574 non-null float64\n",
      "longitude_y     160574 non-null float64\n",
      "element type    160574 non-null object\n",
      "begin year      160574 non-null int64\n",
      "end year        160574 non-null int64\n",
      "dtypes: float64(5), int64(3), object(4)\n",
      "memory usage: 15.9+ MB\n"
     ]
    }
   ],
   "source": [
    "#Extract stations which has data of max temperature, min temperature, perception, with period of 1990 to 2019\n",
    "df_station_selected = df_station[(df_station['begin year']<1990)&\n",
    "                                (df_station['end year']==2019)&\n",
    "                                (df_station['element type']=='TMAX')|\n",
    "                                (df_station['element type']=='TMIN')|\n",
    "                                (df_station['element type']=='PRCP')]\n",
    "df_station_selected.info()"
   ]
  },
  {
   "cell_type": "code",
   "execution_count": 16,
   "metadata": {},
   "outputs": [
    {
     "data": {
      "text/plain": [
       "['AE000041196',\n",
       " 'AEM00041194',\n",
       " 'AEM00041217',\n",
       " 'AFM00040938',\n",
       " 'AFM00040948',\n",
       " 'AFM00040990',\n",
       " 'AG000060390',\n",
       " 'AG000060590',\n",
       " 'AG000060611',\n",
       " 'AGE00147708']"
      ]
     },
     "execution_count": 16,
     "metadata": {},
     "output_type": "execute_result"
    }
   ],
   "source": [
    "#Extract stations which has all three data, TMAX, TMIN, and PRCP, and make a list\n",
    "df_groupby = df_station_selected.groupby('Station ID')\n",
    "element_count = df_groupby['element type'].count()\n",
    "station_with_three = element_count[element_count==3].index.tolist()\n",
    "\n",
    "#Show the first 10 items.\n",
    "station_with_three[:10]"
   ]
  },
  {
   "cell_type": "code",
   "execution_count": 22,
   "metadata": {},
   "outputs": [],
   "source": [
    "#Make dataframe of stations which has all three data since before 1990\n",
    "df_station_selected = df_station_selected[df_station_selected['Station ID'].isin(station_with_three)]\n",
    "df_station_selected.to_csv('noaa_station_selected.csv')"
   ]
  },
  {
   "cell_type": "code",
   "execution_count": 17,
   "metadata": {},
   "outputs": [],
   "source": [
    "#Save the data frame to csv\n",
    "df_station_selected = pd.read_csv('noaa_station_selected.csv')"
   ]
  },
  {
   "cell_type": "code",
   "execution_count": 19,
   "metadata": {},
   "outputs": [
    {
     "name": "stdout",
     "output_type": "stream",
     "text": [
      "AR 1150\n",
      "IL 2140\n",
      "IN 1929\n",
      "IA 1199\n",
      "KS 2331\n",
      "KY 1133\n",
      "LA 1023\n",
      "MI 1838\n",
      "MN 1706\n",
      "MS 865\n",
      "MO 1869\n",
      "NE 2521\n",
      "NC 2557\n",
      "ND 819\n",
      "OH 1456\n",
      "SD 1365\n",
      "TN 1805\n",
      "WI 1382\n",
      "total number:  29088\n"
     ]
    }
   ],
   "source": [
    "#Soybean state is where 95% of soybean is planted in the US\n",
    "soybean_state = ['AR','IL','IN','IA','KS','KY','LA','MI','MN','MS','MO','NE','NC','ND','OH','SD','TN','WI']\n",
    "\n",
    "#Show how many stations are avaliable for each state\n",
    "total = 0\n",
    "for state in soybean_state:\n",
    "    number = len(df_station_selected[df_station_selected.state==state])\n",
    "    total+=number\n",
    "    print(state, number)\n",
    "\n",
    "#Show total number of stations\n",
    "print('total number: ', total)"
   ]
  },
  {
   "cell_type": "code",
   "execution_count": 25,
   "metadata": {},
   "outputs": [],
   "source": [
    "#Select TMAX only\n",
    "df_station_selected_tmax = df_station_selected[df_station_selected['element type']=='TMAX']"
   ]
  },
  {
   "cell_type": "code",
   "execution_count": 26,
   "metadata": {},
   "outputs": [],
   "source": [
    "#randomly select 5 stations from each state and make a dataframe of sampled stations. \n",
    "df_station_sample=pd.DataFrame()\n",
    "for state in soybean_state:\n",
    "    df_element = df_station_selected_tmax[df_station_selected_tmax.state==state].sample(n=5)\n",
    "    df_station_sample = pd.concat([df_station_sample, df_element])\n",
    "\n",
    "#Save sampled stations to csv.\n",
    "df_station_sample.to_csv('noaa_station_sample.csv')"
   ]
  },
  {
   "cell_type": "code",
   "execution_count": 20,
   "metadata": {},
   "outputs": [],
   "source": [
    "df_station_sample = pd.read_csv('noaa_station_sample.csv')"
   ]
  },
  {
   "cell_type": "code",
   "execution_count": 7,
   "metadata": {},
   "outputs": [],
   "source": [
    "#Make a list of stations which randomly selected\n",
    "sample_station = df_station_sample['Station ID'].tolist()"
   ]
  },
  {
   "cell_type": "code",
   "execution_count": 8,
   "metadata": {},
   "outputs": [],
   "source": [
    "#Get API token to connect to NOAA API\n",
    "with open('api_token.json') as key_file:\n",
    "    api_token = json.load(key_file)\n",
    "mytoken = api_token['noaa_token']"
   ]
  },
  {
   "cell_type": "code",
   "execution_count": 10,
   "metadata": {},
   "outputs": [],
   "source": [
    "#Make a function which get json data from NOAA API from certain period from a station.\n",
    "#By API regulation, we can get only 1000 data for each call and 10,000 call a day.\n",
    "def get_dairy_summury(begin_date, end_date, station):\n",
    "        \n",
    "    stationid = 'GHCND:'+station #set station id\n",
    "    datasetid = 'GHCND' #datset id for \"Daily Summaries\"\n",
    "    datatypeid1 = 'PRCP' #perception\n",
    "    datatypeid2 = 'TMAX' #max tempurture\n",
    "    datatypeid3 = 'TMIN' #max tempurture\n",
    "\n",
    "    #Set API token\n",
    "    token = {'token' : mytoken}\n",
    "\n",
    "    params = 'datasetid='+str(datasetid)+'&'+'datatypeid='+str(datatypeid1)+'&'+'datatypeid='+str(datatypeid2)+'&'+'datatypeid='+str(datatypeid3)+'&'+'stationid='+str(stationid)+'&'+'startdate='+str(begin_date)+'&'+'enddate='+str(end_date)+'&'+'limit=1000'+'&'+'units=standard'\n",
    "\n",
    "    url = 'https://www.ncdc.noaa.gov/cdo-web/api/v2/data'\n",
    "    \n",
    "    #get data from API\n",
    "    r = requests.get(url, params=params, headers=token)\n",
    "    \n",
    "    #make data json format.\n",
    "    data = r.json()\n",
    "    \n",
    "    return data\n",
    " "
   ]
  },
  {
   "cell_type": "code",
   "execution_count": 18,
   "metadata": {},
   "outputs": [
    {
     "name": "stdout",
     "output_type": "stream",
     "text": [
      "1\n",
      "2\n",
      "Data is missing!! station ID USC00391392\n",
      "3\n",
      "4\n",
      "5\n",
      "6\n",
      "7\n",
      "8\n",
      "Data is missing!! station ID USC00408184\n",
      "9\n",
      "10\n",
      "Data is missing!! station ID USC00402680\n",
      "11\n",
      "12\n",
      "13\n",
      "14\n",
      "15\n",
      "Data is missing!! station ID USC00475573\n",
      "16\n"
     ]
    }
   ],
   "source": [
    "#Connect to a data base\n",
    "#conn = sqlite3.connect('weather.db')\n",
    "#c = conn.cursor()\n",
    "\n",
    "#DO NOT excute below if you want to continuously collecting data\n",
    "#c.execute('''DROP TABLE IF EXISTS users''')\n",
    "#c.execute('''CREATE TABLE IF NOT EXISTS users (date, datatype, station, attributes, value)''')\n",
    "\n",
    "#indicator of progress(count one for each stations)\n",
    "m=0\n",
    "\n",
    "#Get data for each stations,\n",
    "for station in sample_station[74:]:\n",
    "    \n",
    "    # connect to database\n",
    "    conn = sqlite3.connect('weather.db')\n",
    "    c = conn.cursor()\n",
    "    \n",
    "    #set start date as 1990 Jan 1st and get date of today\n",
    "    start_date = dt.datetime.strptime('1990-01-01', '%Y-%m-%d')\n",
    "    today = dt.datetime.today()\n",
    "    \n",
    "    #sleep to avoid too much access for API\n",
    "    time.sleep(10)\n",
    "    \n",
    "    #set true false indicator\n",
    "    k=0\n",
    "    \n",
    "    #count one for each staion and show progress\n",
    "    m=m+1\n",
    "    print(m)\n",
    "    \n",
    "    #continue roope until start date become today\n",
    "    while k==0:\n",
    "        \n",
    "        #set end date as start date + 332days since we can get only 1,000data at one call to API\n",
    "        #for each day, we get three data of TMAX, TMIN, and PRCP.\n",
    "        if start_date + dt.timedelta(days=332) < today:\n",
    "            end_date = start_date + dt.timedelta(days=332)\n",
    "        \n",
    "        else:\n",
    "            end_date = today - dt.timedelta(days=1)\n",
    "            k=1\n",
    "        \n",
    "        #convert timdelta to string\n",
    "        start_date = start_date.strftime('%Y-%m-%d')\n",
    "        end_date = end_date.strftime('%Y-%m-%d')\n",
    "        \n",
    "        #get data via API. Break from roop if no data was got.\n",
    "        data = get_dairy_summury(start_date, end_date, station)\n",
    "        if data == {}:\n",
    "            print('Data is missing!! station ID {}'.format(station))\n",
    "            missing_station.append(station)\n",
    "            break\n",
    "            \n",
    "        else:\n",
    "            data = data['results']\n",
    "        \n",
    "        #write data into sql database\n",
    "        for val in data:\n",
    "            c.execute('''INSERT INTO users VALUES (?, ?, ?, ?, ?);''', (val['date'], val['datatype'], val['station'], val['attributes'], val['value']))\n",
    "    \n",
    "        #set start date as end date +1day, at final roope start date become today\n",
    "        end_date = dt.datetime.strptime(end_date, '%Y-%m-%d')\n",
    "        start_date = end_date + dt.timedelta(days=1)\n",
    "        \n",
    "        time.sleep(0.2)\n",
    "    \n",
    "    \n",
    "    # Commit the incerts\n",
    "    conn.commit()\n",
    "\n",
    "    # close database\n",
    "    conn.close()\n",
    "    "
   ]
  },
  {
   "cell_type": "code",
   "execution_count": 23,
   "metadata": {},
   "outputs": [],
   "source": [
    "#record station which data is missing\n",
    "missing_station = ['USC00034572', 'USC00124356', 'USC00138693', 'USW00093909', 'USC00142881', 'USC00157677', \n",
    "                  'USC00154208', 'USW00012884', 'USC00203504', 'USC00218311', 'USC00238603', 'USC00250070',\n",
    "                   'USC00322482', 'USC00327585', 'USC00334681', 'USC00391392', 'USC00408184', 'USC00402680',\n",
    "                   'USC00475573']"
   ]
  },
  {
   "cell_type": "code",
   "execution_count": 24,
   "metadata": {},
   "outputs": [
    {
     "data": {
      "text/plain": [
       "19"
      ]
     },
     "execution_count": 24,
     "metadata": {},
     "output_type": "execute_result"
    }
   ],
   "source": [
    "len(missing_station)"
   ]
  },
  {
   "cell_type": "code",
   "execution_count": 20,
   "metadata": {},
   "outputs": [
    {
     "data": {
      "text/html": [
       "<div>\n",
       "<style scoped>\n",
       "    .dataframe tbody tr th:only-of-type {\n",
       "        vertical-align: middle;\n",
       "    }\n",
       "\n",
       "    .dataframe tbody tr th {\n",
       "        vertical-align: top;\n",
       "    }\n",
       "\n",
       "    .dataframe thead th {\n",
       "        text-align: right;\n",
       "    }\n",
       "</style>\n",
       "<table border=\"1\" class=\"dataframe\">\n",
       "  <thead>\n",
       "    <tr style=\"text-align: right;\">\n",
       "      <th></th>\n",
       "      <th>date</th>\n",
       "      <th>datatype</th>\n",
       "      <th>station</th>\n",
       "      <th>attributes</th>\n",
       "      <th>value</th>\n",
       "    </tr>\n",
       "  </thead>\n",
       "  <tbody>\n",
       "    <tr>\n",
       "      <th>0</th>\n",
       "      <td>1990-01-01T00:00:00</td>\n",
       "      <td>PRCP</td>\n",
       "      <td>GHCND:USC00035186</td>\n",
       "      <td>,,0,0800</td>\n",
       "      <td>0.0</td>\n",
       "    </tr>\n",
       "    <tr>\n",
       "      <th>1</th>\n",
       "      <td>1990-01-01T00:00:00</td>\n",
       "      <td>TMAX</td>\n",
       "      <td>GHCND:USC00035186</td>\n",
       "      <td>,,0,0800</td>\n",
       "      <td>44.0</td>\n",
       "    </tr>\n",
       "    <tr>\n",
       "      <th>2</th>\n",
       "      <td>1990-01-01T00:00:00</td>\n",
       "      <td>TMIN</td>\n",
       "      <td>GHCND:USC00035186</td>\n",
       "      <td>,,0,0800</td>\n",
       "      <td>31.0</td>\n",
       "    </tr>\n",
       "    <tr>\n",
       "      <th>3</th>\n",
       "      <td>1990-01-02T00:00:00</td>\n",
       "      <td>PRCP</td>\n",
       "      <td>GHCND:USC00035186</td>\n",
       "      <td>,,0,0800</td>\n",
       "      <td>0.0</td>\n",
       "    </tr>\n",
       "    <tr>\n",
       "      <th>4</th>\n",
       "      <td>1990-01-02T00:00:00</td>\n",
       "      <td>TMAX</td>\n",
       "      <td>GHCND:USC00035186</td>\n",
       "      <td>,,0,0800</td>\n",
       "      <td>44.0</td>\n",
       "    </tr>\n",
       "  </tbody>\n",
       "</table>\n",
       "</div>"
      ],
      "text/plain": [
       "                  date datatype            station attributes  value\n",
       "0  1990-01-01T00:00:00     PRCP  GHCND:USC00035186   ,,0,0800    0.0\n",
       "1  1990-01-01T00:00:00     TMAX  GHCND:USC00035186   ,,0,0800   44.0\n",
       "2  1990-01-01T00:00:00     TMIN  GHCND:USC00035186   ,,0,0800   31.0\n",
       "3  1990-01-02T00:00:00     PRCP  GHCND:USC00035186   ,,0,0800    0.0\n",
       "4  1990-01-02T00:00:00     TMAX  GHCND:USC00035186   ,,0,0800   44.0"
      ]
     },
     "execution_count": 20,
     "metadata": {},
     "output_type": "execute_result"
    }
   ],
   "source": [
    "#Make dataframe of data for sampled stations\n",
    "conn = sqlite3.connect('weather.db')\n",
    "sql = '''SELECT date, datatype, station, attributes, value FROM users'''\n",
    "df = pd.read_sql(sql, conn)\n",
    "df.head()"
   ]
  },
  {
   "cell_type": "code",
   "execution_count": 21,
   "metadata": {},
   "outputs": [
    {
     "name": "stdout",
     "output_type": "stream",
     "text": [
      "<class 'pandas.core.frame.DataFrame'>\n",
      "RangeIndex: 2433048 entries, 0 to 2433047\n",
      "Data columns (total 5 columns):\n",
      "date          object\n",
      "datatype      object\n",
      "station       object\n",
      "attributes    object\n",
      "value         float64\n",
      "dtypes: float64(1), object(4)\n",
      "memory usage: 92.8+ MB\n"
     ]
    }
   ],
   "source": [
    "df.info()"
   ]
  },
  {
   "cell_type": "code",
   "execution_count": 22,
   "metadata": {},
   "outputs": [
    {
     "name": "stdout",
     "output_type": "stream",
     "text": [
      "0 USC00035186 32180 \n",
      "1 USC00034756 32224 \n",
      "2 USC00032978 31606 \n",
      "3 USC00033466 31812 \n",
      "4 USC00034572 0 missing\n",
      "5 USW00014806 32126 \n",
      "6 USC00111302 31457 \n",
      "7 USC00116200 31559 \n",
      "8 USC00118916 30553 \n",
      "9 USC00118293 32257 \n",
      "10 USC00128698 31232 \n",
      "11 USW00014848 32412 \n",
      "12 USC00124356 23268 missing\n",
      "13 USC00127298 31099 \n",
      "14 USC00126435 29730 \n",
      "15 USW00014943 32415 \n",
      "16 USW00014933 32412 \n",
      "17 USC00135131 31566 \n",
      "18 USC00138693 3489 missing\n",
      "19 USC00136327 30119 \n",
      "20 USW00093909 0 missing\n",
      "21 USC00142881 0 missing\n",
      "22 USC00142432 32276 \n",
      "23 USC00143239 30327 \n",
      "24 USC00144857 28696 \n",
      "25 USC00150254 29233 \n",
      "26 USC00155694 32014 \n",
      "27 USC00157677 23451 missing\n",
      "28 USC00154208 519 missing\n",
      "29 USC00155067 31581 \n",
      "30 USW00003937 32415 \n",
      "31 USW00012930 29834 \n",
      "32 USW00012916 32414 \n",
      "33 USC00168163 31378 \n",
      "34 USW00012884 0 missing\n",
      "35 USC00202250 32112 \n",
      "36 USC00203744 31371 \n",
      "37 USC00203504 16309 missing\n",
      "38 USW00014822 27259 \n",
      "39 USC00208800 32384 \n",
      "40 USC00212842 30781 \n",
      "41 USC00210252 32310 \n",
      "42 USC00218311 20343 missing\n",
      "43 USW00014926 32415 \n",
      "44 USC00215563 31741 \n",
      "45 USW00003940 32415 \n",
      "46 USC00221880 31442 \n",
      "47 USC00224377 32153 \n",
      "48 USC00226894 32014 \n",
      "49 USC00228374 30633 \n",
      "50 USC00235027 32388 \n",
      "51 USC00238603 23251 missing\n",
      "52 USC00237398 30836 \n",
      "53 USC00238051 31251 \n",
      "54 USW00013997 31139 \n",
      "55 USC00250435 32417 \n",
      "56 USC00258395 32224 \n",
      "57 USC00255090 28968 \n",
      "58 USC00250070 19766 missing\n",
      "59 USC00250365 32184 \n",
      "60 USC00319476 31846 \n",
      "61 USC00315830 31925 \n",
      "62 USC00317615 31331 \n",
      "63 USC00315356 32050 \n",
      "64 USC00310506 28285 \n",
      "65 USC00322193 31788 \n",
      "66 USC00325813 29906 \n",
      "67 USC00328872 31029 \n",
      "68 USC00322482 23060 missing\n",
      "69 USC00327585 0 missing\n",
      "70 USC00338822 32238 \n",
      "71 USC00334681 13637 missing\n",
      "72 USC00332098 32139 \n",
      "73 USC00338830 31458 \n",
      "74 USC00332044 31115 \n",
      "75 USC00391392 14095 missing\n",
      "76 USC00395544 32181 \n",
      "77 USC00399367 31352 \n",
      "78 USC00398116 32222 \n",
      "79 USW00014944 32415 \n",
      "80 USC00407184 32301 \n",
      "81 USC00408184 0 missing\n",
      "82 USC00406292 30140 \n",
      "83 USC00402680 0 missing\n",
      "84 USC00402934 32042 \n",
      "85 USC00472839 31972 \n",
      "86 USC00478171 32392 \n",
      "87 USC00470696 32241 \n",
      "88 USC00475573 19167 missing\n",
      "89 USC00478827 30961 \n"
     ]
    }
   ],
   "source": [
    "#Show number of data for each stations.\n",
    "i=-1\n",
    "for item in sample_station:\n",
    "    station = 'GHCND:'+item\n",
    "    number = len(df[df.station==station])\n",
    "    i+=1\n",
    "    if item in missing_station:\n",
    "        m='missing'\n",
    "    else:\n",
    "        m=''\n",
    "    print(i, item, number, m)"
   ]
  },
  {
   "cell_type": "code",
   "execution_count": 26,
   "metadata": {},
   "outputs": [],
   "source": [
    "#Show result in histogram\n",
    "%matplotlib inline\n",
    "import matplotlib.pyplot as plt"
   ]
  },
  {
   "cell_type": "code",
   "execution_count": 38,
   "metadata": {},
   "outputs": [
    {
     "data": {
      "text/plain": [
       "<matplotlib.axes._subplots.AxesSubplot at 0x7c944cf7b668>"
      ]
     },
     "execution_count": 38,
     "metadata": {},
     "output_type": "execute_result"
    },
    {
     "data": {
      "image/png": "[encoded data removed]",
      "text/plain": [
       "<Figure size 432x288 with 1 Axes>"
      ]
     },
     "metadata": {
      "needs_background": "light"
     },
     "output_type": "display_data"
    }
   ],
   "source": [
    "#histogram for maximum temperature of sampled stations\n",
    "df[df.datatype == 'TMIN'].value.plot(kind='hist', bins=50)"
   ]
  },
  {
   "cell_type": "code",
   "execution_count": 33,
   "metadata": {},
   "outputs": [
    {
     "data": {
      "text/plain": [
       "<matplotlib.axes._subplots.AxesSubplot at 0x7c9453d01860>"
      ]
     },
     "execution_count": 33,
     "metadata": {},
     "output_type": "execute_result"
    },
    {
     "data": {
      "image/png": "[encoded data removed]",
      "text/plain": [
       "<Figure size 432x288 with 1 Axes>"
      ]
     },
     "metadata": {
      "needs_background": "light"
     },
     "output_type": "display_data"
    }
   ],
   "source": [
    "#histogram for minimum temperature of sampled stations\n",
    "df[df.datatype == 'TMAX'].value.plot(kind='hist', bins=50)"
   ]
  },
  {
   "cell_type": "code",
   "execution_count": 35,
   "metadata": {},
   "outputs": [
    {
     "data": {
      "text/plain": [
       "<matplotlib.axes._subplots.AxesSubplot at 0x7c945909dda0>"
      ]
     },
     "execution_count": 35,
     "metadata": {},
     "output_type": "execute_result"
    },
    {
     "data": {
      "image/png": "[encoded data removed]",
      "text/plain": [
       "<Figure size 432x288 with 1 Axes>"
      ]
     },
     "metadata": {
      "needs_background": "light"
     },
     "output_type": "display_data"
    }
   ],
   "source": [
    "#histogram for perception of sampled stations\n",
    "df[df.datatype == 'PRCP'].value.plot(kind='hist', bins=50)"
   ]
  },
  {
   "cell_type": "code",
   "execution_count": null,
   "metadata": {},
   "outputs": [],
   "source": []
  }
 ],
 "metadata": {
  "kernelspec": {
   "display_name": "Python 3",
   "language": "python",
   "name": "python3"
  },
  "language_info": {
   "codemirror_mode": {
    "name": "ipython",
    "version": 3
   },
   "file_extension": ".py",
   "mimetype": "text/x-python",
   "name": "python",
   "nbconvert_exporter": "python",
   "pygments_lexer": "ipython3",
   "version": "3.7.3"
  }
 },
 "nbformat": 4,
 "nbformat_minor": 2
}
