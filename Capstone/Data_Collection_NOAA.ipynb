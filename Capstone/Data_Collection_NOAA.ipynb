{
 "cells": [
  {
   "cell_type": "code",
   "execution_count": 1,
   "metadata": {},
   "outputs": [],
   "source": [
    "import requests\n",
    "import json"
   ]
  },
  {
   "cell_type": "code",
   "execution_count": 2,
   "metadata": {},
   "outputs": [],
   "source": [
    "#Get API token\n",
    "with open('api_token.json') as key_file:\n",
    "    api_token = json.load(key_file)"
   ]
  },
  {
   "cell_type": "code",
   "execution_count": 3,
   "metadata": {},
   "outputs": [
    {
     "data": {
      "text/plain": [
       "<Response [400]>"
      ]
     },
     "execution_count": 3,
     "metadata": {},
     "output_type": "execute_result"
    }
   ],
   "source": [
    "#Get weather data from NOAA API\n",
    "headers = {'token' : api_token['noaa_token']}\n",
    "dataset_id = 'GHCND'\n",
    "params = {'dataset_id':'GHCND',\n",
    "          'locationid':'FIPS:37',\n",
    "         'startdate':'2010-05-01',\n",
    "         'enddate':'2010-05-02'}\n",
    "url = 'https://www.ncdc.noaa.gov/cdo-web/api/v2/data?datasetid=GSOM'\n",
    "\n",
    "r = requests.get(url, headers=headers)\n",
    "\n",
    "r"
   ]
  },
  {
   "cell_type": "code",
   "execution_count": null,
   "metadata": {},
   "outputs": [],
   "source": []
  }
 ],
 "metadata": {
  "kernelspec": {
   "display_name": "Python 3",
   "language": "python",
   "name": "python3"
  },
  "language_info": {
   "codemirror_mode": {
    "name": "ipython",
    "version": 3
   },
   "file_extension": ".py",
   "mimetype": "text/x-python",
   "name": "python",
   "nbconvert_exporter": "python",
   "pygments_lexer": "ipython3",
   "version": "3.7.3"
  }
 },
 "nbformat": 4,
 "nbformat_minor": 2
}
