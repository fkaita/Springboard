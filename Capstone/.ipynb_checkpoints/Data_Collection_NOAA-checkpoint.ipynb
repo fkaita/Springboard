{
 "cells": [
  {
   "cell_type": "code",
   "execution_count": 2,
   "metadata": {},
   "outputs": [],
   "source": [
    "import requests\n",
    "import json\n",
    "import datetime\n",
    "import pandas as pd"
   ]
  },
  {
   "cell_type": "code",
   "execution_count": 3,
   "metadata": {},
   "outputs": [],
   "source": [
    "#Get API token\n",
    "with open('api_token.json') as key_file:\n",
    "    api_token = json.load(key_file)\n",
    "mytoken = api_token['noaa_token']"
   ]
  },
  {
   "cell_type": "code",
   "execution_count": 42,
   "metadata": {},
   "outputs": [
    {
     "name": "stdout",
     "output_type": "stream",
     "text": [
      "2019-06-01 2019-07-01\n"
     ]
    }
   ],
   "source": [
    "#Use the datetime package to get today\n",
    "today = datetime.datetime.now()\n",
    "\n",
    "#Use the same begin and end date for just one day's data. Format for the API request\n",
    "begin_date = '2019-06-01'\n",
    "end_date = today.strftime(\"%Y-%m-%d\")\n",
    "\n",
    "#Location key for the region you are interested in (can be found on NOAA or requested as a different API as well)\n",
    "locationid = 'FIPS:38' #location id for North Dakota\n",
    "datasetid = 'GHCND' #datset id for \"Daily Summaries\"\n",
    "datatypeid1 = 'PRCP' #perception\n",
    "datatypeid2 = 'TMAX' #max tempurture\n",
    "datatypeid3 = 'TMIN' #max tempurture\n",
    "\n",
    "print(begin_date, end_date)"
   ]
  },
  {
   "cell_type": "code",
   "execution_count": 43,
   "metadata": {},
   "outputs": [
    {
     "data": {
      "text/plain": [
       "200"
      ]
     },
     "execution_count": 43,
     "metadata": {},
     "output_type": "execute_result"
    }
   ],
   "source": [
    "#Get weather data from NOAA API\n",
    "token = {'token' : mytoken}\n",
    "\n",
    "params = 'datasetid='+str(datasetid)+'&'\\\n",
    "+'datatypeid='+str(datatypeid1)+'&'\\\n",
    "+'datatypeid='+str(datatypeid2)+'&'\\\n",
    "+'datatypeid='+str(datatypeid3)+'&'\\\n",
    "+'locationid='+str(locationid)+'&'\\\n",
    "+'startdate='+str(begin_date)+'&'\\\n",
    "+'enddate='+str(end_date)+'&'\\\n",
    "+'limit=1000'+'&'+'units=standard'\n",
    "\n",
    "url = 'https://www.ncdc.noaa.gov/cdo-web/api/v2/data'\n",
    "\n",
    "r = requests.get(url, params=params, headers=token)\n",
    "\n",
    "r.status_code"
   ]
  },
  {
   "cell_type": "code",
   "execution_count": 38,
   "metadata": {},
   "outputs": [
    {
     "data": {
      "text/plain": [
       "1000"
      ]
     },
     "execution_count": 38,
     "metadata": {},
     "output_type": "execute_result"
    }
   ],
   "source": [
    "data = r.json()\n",
    "len(data['results'])"
   ]
  },
  {
   "cell_type": "code",
   "execution_count": 39,
   "metadata": {},
   "outputs": [
    {
     "name": "stdout",
     "output_type": "stream",
     "text": [
      "<class 'pandas.core.frame.DataFrame'>\n",
      "RangeIndex: 1000 entries, 0 to 999\n",
      "Data columns (total 5 columns):\n",
      "attributes    1000 non-null object\n",
      "datatype      1000 non-null object\n",
      "date          1000 non-null object\n",
      "station       1000 non-null object\n",
      "value         1000 non-null float64\n",
      "dtypes: float64(1), object(4)\n",
      "memory usage: 39.1+ KB\n"
     ]
    }
   ],
   "source": [
    "df = pd.DataFrame.from_dict(data['results'])\n",
    "df.info()"
   ]
  },
  {
   "cell_type": "code",
   "execution_count": 40,
   "metadata": {},
   "outputs": [
    {
     "data": {
      "text/plain": [
       "array(['PRCP', 'TMAX'], dtype=object)"
      ]
     },
     "execution_count": 40,
     "metadata": {},
     "output_type": "execute_result"
    }
   ],
   "source": [
    "df.datatype.unique()"
   ]
  },
  {
   "cell_type": "code",
   "execution_count": 41,
   "metadata": {},
   "outputs": [
    {
     "data": {
      "text/plain": [
       "141"
      ]
     },
     "execution_count": 41,
     "metadata": {},
     "output_type": "execute_result"
    }
   ],
   "source": [
    "len(df.station.unique())"
   ]
  },
  {
   "cell_type": "code",
   "execution_count": null,
   "metadata": {},
   "outputs": [],
   "source": []
  }
 ],
 "metadata": {
  "kernelspec": {
   "display_name": "Python 3",
   "language": "python",
   "name": "python3"
  },
  "language_info": {
   "codemirror_mode": {
    "name": "ipython",
    "version": 3
   },
   "file_extension": ".py",
   "mimetype": "text/x-python",
   "name": "python",
   "nbconvert_exporter": "python",
   "pygments_lexer": "ipython3",
   "version": "3.7.3"
  }
 },
 "nbformat": 4,
 "nbformat_minor": 2
}
